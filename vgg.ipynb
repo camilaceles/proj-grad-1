{
  "nbformat": 4,
  "nbformat_minor": 5,
  "metadata": {
    "kernelspec": {
      "display_name": "Python 3 (ipykernel)",
      "language": "python",
      "name": "python3"
    },
    "language_info": {
      "codemirror_mode": {
        "name": "ipython",
        "version": 3
      },
      "file_extension": ".py",
      "mimetype": "text/x-python",
      "name": "python",
      "nbconvert_exporter": "python",
      "pygments_lexer": "ipython3",
      "version": "3.9.7"
    },
    "colab": {
      "name": "vgg.ipynb",
      "provenance": [],
      "collapsed_sections": []
    },
    "accelerator": "GPU"
  },
  "cells": [
    {
      "cell_type": "markdown",
      "metadata": {
        "id": "4708acb2-ba03-4e24-8ff4-e46c60651214"
      },
      "source": [
        "# Building the networks"
      ],
      "id": "4708acb2-ba03-4e24-8ff4-e46c60651214"
    },
    {
      "cell_type": "markdown",
      "metadata": {
        "id": "392e7dfe-c8ac-466d-a5f2-c0edaf349c64"
      },
      "source": [
        "## Initial steps"
      ],
      "id": "392e7dfe-c8ac-466d-a5f2-c0edaf349c64"
    },
    {
      "cell_type": "code",
      "metadata": {
        "id": "f5092b2a-6989-4f4c-aab3-b3a07e566378"
      },
      "source": [
        "import numpy as np\n",
        "import pandas as pd\n",
        "import matplotlib.pyplot as plt"
      ],
      "id": "f5092b2a-6989-4f4c-aab3-b3a07e566378",
      "execution_count": 1,
      "outputs": []
    },
    {
      "cell_type": "code",
      "metadata": {
        "colab": {
          "base_uri": "https://localhost:8080/"
        },
        "id": "fxC3GYxvcDct",
        "outputId": "82f172d2-7bff-4a19-ef9f-c8cdbd5af451"
      },
      "source": [
        "import tensorflow as tf\n",
        "device_name = tf.test.gpu_device_name()\n",
        "if device_name != '/device:GPU:0':\n",
        "  raise SystemError('GPU device not found')\n",
        "print('Found GPU at: {}'.format(device_name))"
      ],
      "id": "fxC3GYxvcDct",
      "execution_count": 2,
      "outputs": [
        {
          "output_type": "stream",
          "name": "stdout",
          "text": [
            "Found GPU at: /device:GPU:0\n"
          ]
        }
      ]
    },
    {
      "cell_type": "code",
      "metadata": {
        "colab": {
          "base_uri": "https://localhost:8080/"
        },
        "id": "d512837d-afbc-4505-ba6b-0988e2fc8357",
        "outputId": "e3f40a12-8c39-4f8f-8cef-224aedad3523"
      },
      "source": [
        "from google.colab import drive\n",
        "drive.mount('/content/drive/', force_remount=True)\n",
        "\n",
        "path = '/content/drive/My Drive/TCC/'"
      ],
      "id": "d512837d-afbc-4505-ba6b-0988e2fc8357",
      "execution_count": 3,
      "outputs": [
        {
          "output_type": "stream",
          "name": "stdout",
          "text": [
            "Mounted at /content/drive/\n"
          ]
        }
      ]
    },
    {
      "cell_type": "code",
      "metadata": {
        "id": "fb7adb1e-8e03-4d32-ae49-b209ead86467"
      },
      "source": [
        "n_classes = 6\n",
        "labels_to_int = {\"scab\": 0, \"rust\": 1, \"powdery_mildew\": 2, \"healthy\": 3, \"frog_eye_leaf_spot\": 4, \"complex\": 5}\n",
        "\n",
        "def to_categorical(labels):\n",
        "    \"\"\"Turns labels string into categorical n-hot representation\"\"\"\n",
        "    categorical = []\n",
        "    for lbl in labels:\n",
        "        cat = [0] * n_classes\n",
        "        for key,val in labels_to_int.items():\n",
        "            if key in lbl:\n",
        "                cat[val] = 1\n",
        "        categorical.append(cat)\n",
        "    return np.array(categorical)"
      ],
      "id": "fb7adb1e-8e03-4d32-ae49-b209ead86467",
      "execution_count": 4,
      "outputs": []
    },
    {
      "cell_type": "code",
      "metadata": {
        "id": "GUNDbljlVOL5"
      },
      "source": [
        "from PIL import Image\n",
        "def load_images(filenames, path):\n",
        "    data = []\n",
        "    for fn in filenames:\n",
        "        img = np.array(Image.open(path+fn))\n",
        "        data.append(img)\n",
        "    # Preprocessing\n",
        "    data = np.array(data).astype('float32')\n",
        "    data /= 255.0\n",
        "    mean_pixel = np.mean(data)\n",
        "    data -= mean_pixel # subtracting mean pixel vcalue (from the dataset) as suggested in VGG paper\n",
        "    return data"
      ],
      "id": "GUNDbljlVOL5",
      "execution_count": 5,
      "outputs": []
    },
    {
      "cell_type": "code",
      "metadata": {
        "id": "375c9544-87f2-44be-a035-0159080f35e9"
      },
      "source": [
        "# Loading the labels\n",
        "labels_df = pd.read_csv(path+'train.csv')"
      ],
      "id": "375c9544-87f2-44be-a035-0159080f35e9",
      "execution_count": 6,
      "outputs": []
    },
    {
      "cell_type": "code",
      "metadata": {
        "id": "a57ba257-8ce9-4e8a-9f39-ddbd4b3d33d8"
      },
      "source": [
        "# Loading the train dataset\n",
        "img_path = path+\"resized/\"\n",
        "\n",
        "train_img_fns = labels_df.iloc[:5000,0].values\n",
        "x_train = load_images(train_img_fns, img_path)\n",
        "\n",
        "labels_train = labels_df.iloc[:5000,1].values\n",
        "y_train = to_categorical(labels_train)"
      ],
      "id": "a57ba257-8ce9-4e8a-9f39-ddbd4b3d33d8",
      "execution_count": 10,
      "outputs": []
    },
    {
      "cell_type": "code",
      "metadata": {
        "id": "HSF9bDASWJK4"
      },
      "source": [
        "# Loading the test dataset\n",
        "test_img_fns = labels_df.iloc[5000:6000,0].values\n",
        "x_test = load_images(test_img_fns, img_path)\n",
        "\n",
        "labels_test = labels_df.iloc[5000:6000,1].values\n",
        "y_test = to_categorical(labels_test)"
      ],
      "id": "HSF9bDASWJK4",
      "execution_count": 11,
      "outputs": []
    },
    {
      "cell_type": "markdown",
      "metadata": {
        "id": "0161c9cc-2d80-44c6-bd4d-0e3b0b3428b1"
      },
      "source": [
        "## Network"
      ],
      "id": "0161c9cc-2d80-44c6-bd4d-0e3b0b3428b1"
    },
    {
      "cell_type": "code",
      "metadata": {
        "id": "c021af7f-2e93-47f2-ae3f-449e7a5781ff"
      },
      "source": [
        "from tensorflow import keras\n",
        "from tensorflow.keras import layers"
      ],
      "id": "c021af7f-2e93-47f2-ae3f-449e7a5781ff",
      "execution_count": 12,
      "outputs": []
    },
    {
      "cell_type": "code",
      "metadata": {
        "id": "7ae43efc-49d1-4f7b-b333-790fe7581ea4"
      },
      "source": [
        "input_shape = (224, 224, 3)\n",
        "\n",
        "model = keras.Sequential(\n",
        "    [\n",
        "        keras.Input(shape=input_shape),\n",
        "        \n",
        "        # Stack of convolutional layers\n",
        "        layers.Conv2D(64, kernel_size=(3, 3), padding=\"same\", activation=\"relu\"),\n",
        "        layers.Conv2D(64, kernel_size=(3, 3), padding=\"same\", activation=\"relu\"),\n",
        "        layers.MaxPooling2D(pool_size=(2, 2), strides=(2, 2)),\n",
        "        \n",
        "        layers.Conv2D(128, kernel_size=(3, 3), padding=\"same\", activation=\"relu\"),\n",
        "        layers.Conv2D(128, kernel_size=(3, 3), padding=\"same\", activation=\"relu\"),\n",
        "        layers.MaxPooling2D(pool_size=(2, 2), strides=(2, 2)),\n",
        "        \n",
        "        layers.Conv2D(256, kernel_size=(3, 3), padding=\"same\", activation=\"relu\"),\n",
        "        layers.Conv2D(256, kernel_size=(3, 3), padding=\"same\", activation=\"relu\"),\n",
        "        layers.Conv2D(256, kernel_size=(3, 3), padding=\"same\", activation=\"relu\"),\n",
        "        layers.MaxPooling2D(pool_size=(2, 2), strides=(2, 2)),\n",
        "        \n",
        "        layers.Conv2D(512, kernel_size=(3, 3), padding=\"same\", activation=\"relu\"),\n",
        "        layers.Conv2D(512, kernel_size=(3, 3), padding=\"same\", activation=\"relu\"),\n",
        "        layers.Conv2D(512, kernel_size=(3, 3), padding=\"same\", activation=\"relu\"),\n",
        "        layers.MaxPooling2D(pool_size=(2, 2), strides=(2, 2)),\n",
        "        \n",
        "        layers.Conv2D(512, kernel_size=(3, 3), padding=\"same\", activation=\"relu\"),\n",
        "        layers.Conv2D(512, kernel_size=(3, 3), padding=\"same\", activation=\"relu\"),\n",
        "        layers.Conv2D(512, kernel_size=(3, 3), padding=\"same\", activation=\"relu\"),\n",
        "        layers.MaxPooling2D(pool_size=(2, 2), strides=(2, 2)),\n",
        "        \n",
        "        # Fully-Connected layers\n",
        "        layers.Flatten(),\n",
        "        layers.Dense(4096, activation='relu'),\n",
        "        layers.Dense(4096, activation='relu'),\n",
        "        layers.Dense(n_classes, activation='sigmoid'),\n",
        "        \n",
        "    ]\n",
        ")"
      ],
      "id": "7ae43efc-49d1-4f7b-b333-790fe7581ea4",
      "execution_count": 13,
      "outputs": []
    },
    {
      "cell_type": "code",
      "metadata": {
        "colab": {
          "base_uri": "https://localhost:8080/"
        },
        "id": "0fbf2a59-68e0-4b5f-b67d-9c49769ea10c",
        "outputId": "d816a935-5bc8-478d-d3b4-d335cf10068e"
      },
      "source": [
        "model.summary()"
      ],
      "id": "0fbf2a59-68e0-4b5f-b67d-9c49769ea10c",
      "execution_count": 14,
      "outputs": [
        {
          "output_type": "stream",
          "name": "stdout",
          "text": [
            "Model: \"sequential\"\n",
            "_________________________________________________________________\n",
            "Layer (type)                 Output Shape              Param #   \n",
            "=================================================================\n",
            "conv2d (Conv2D)              (None, 224, 224, 64)      1792      \n",
            "_________________________________________________________________\n",
            "conv2d_1 (Conv2D)            (None, 224, 224, 64)      36928     \n",
            "_________________________________________________________________\n",
            "max_pooling2d (MaxPooling2D) (None, 112, 112, 64)      0         \n",
            "_________________________________________________________________\n",
            "conv2d_2 (Conv2D)            (None, 112, 112, 128)     73856     \n",
            "_________________________________________________________________\n",
            "conv2d_3 (Conv2D)            (None, 112, 112, 128)     147584    \n",
            "_________________________________________________________________\n",
            "max_pooling2d_1 (MaxPooling2 (None, 56, 56, 128)       0         \n",
            "_________________________________________________________________\n",
            "conv2d_4 (Conv2D)            (None, 56, 56, 256)       295168    \n",
            "_________________________________________________________________\n",
            "conv2d_5 (Conv2D)            (None, 56, 56, 256)       590080    \n",
            "_________________________________________________________________\n",
            "conv2d_6 (Conv2D)            (None, 56, 56, 256)       590080    \n",
            "_________________________________________________________________\n",
            "max_pooling2d_2 (MaxPooling2 (None, 28, 28, 256)       0         \n",
            "_________________________________________________________________\n",
            "conv2d_7 (Conv2D)            (None, 28, 28, 512)       1180160   \n",
            "_________________________________________________________________\n",
            "conv2d_8 (Conv2D)            (None, 28, 28, 512)       2359808   \n",
            "_________________________________________________________________\n",
            "conv2d_9 (Conv2D)            (None, 28, 28, 512)       2359808   \n",
            "_________________________________________________________________\n",
            "max_pooling2d_3 (MaxPooling2 (None, 14, 14, 512)       0         \n",
            "_________________________________________________________________\n",
            "conv2d_10 (Conv2D)           (None, 14, 14, 512)       2359808   \n",
            "_________________________________________________________________\n",
            "conv2d_11 (Conv2D)           (None, 14, 14, 512)       2359808   \n",
            "_________________________________________________________________\n",
            "conv2d_12 (Conv2D)           (None, 14, 14, 512)       2359808   \n",
            "_________________________________________________________________\n",
            "max_pooling2d_4 (MaxPooling2 (None, 7, 7, 512)         0         \n",
            "_________________________________________________________________\n",
            "flatten (Flatten)            (None, 25088)             0         \n",
            "_________________________________________________________________\n",
            "dense (Dense)                (None, 4096)              102764544 \n",
            "_________________________________________________________________\n",
            "dense_1 (Dense)              (None, 4096)              16781312  \n",
            "_________________________________________________________________\n",
            "dense_2 (Dense)              (None, 6)                 24582     \n",
            "=================================================================\n",
            "Total params: 134,285,126\n",
            "Trainable params: 134,285,126\n",
            "Non-trainable params: 0\n",
            "_________________________________________________________________\n"
          ]
        }
      ]
    },
    {
      "cell_type": "code",
      "metadata": {
        "colab": {
          "base_uri": "https://localhost:8080/"
        },
        "id": "1d6d6fec-b71e-46f4-9840-116a0dbf30e5",
        "outputId": "6711aef1-9015-48c3-dbf5-6cafb9b8c21d"
      },
      "source": [
        "# Train the model\n",
        "batch_size = 50\n",
        "epochs = 15\n",
        "\n",
        "model.compile(loss=\"binary_crossentropy\", optimizer=\"adam\", metrics=[\"accuracy\"])\n",
        "model.fit(x_train, y_train, epochs=epochs, batch_size=batch_size)"
      ],
      "id": "1d6d6fec-b71e-46f4-9840-116a0dbf30e5",
      "execution_count": 15,
      "outputs": [
        {
          "output_type": "stream",
          "name": "stdout",
          "text": [
            "Epoch 1/15\n",
            "100/100 [==============================] - 153s 1s/step - loss: 1.7977 - accuracy: 0.3038\n",
            "Epoch 2/15\n",
            "100/100 [==============================] - 133s 1s/step - loss: 0.4491 - accuracy: 0.3054\n",
            "Epoch 3/15\n",
            "100/100 [==============================] - 133s 1s/step - loss: 0.4490 - accuracy: 0.3076\n",
            "Epoch 4/15\n",
            "100/100 [==============================] - 133s 1s/step - loss: 0.4490 - accuracy: 0.3160\n",
            "Epoch 5/15\n",
            "100/100 [==============================] - 133s 1s/step - loss: 0.4484 - accuracy: 0.3160\n",
            "Epoch 6/15\n",
            "100/100 [==============================] - 132s 1s/step - loss: 0.4480 - accuracy: 0.3160\n",
            "Epoch 7/15\n",
            "100/100 [==============================] - 132s 1s/step - loss: 0.4481 - accuracy: 0.3160\n",
            "Epoch 8/15\n",
            "100/100 [==============================] - 132s 1s/step - loss: 0.4479 - accuracy: 0.3160\n",
            "Epoch 9/15\n",
            "100/100 [==============================] - 132s 1s/step - loss: 0.4484 - accuracy: 0.3160\n",
            "Epoch 10/15\n",
            "100/100 [==============================] - 132s 1s/step - loss: 0.4483 - accuracy: 0.3160\n",
            "Epoch 11/15\n",
            "100/100 [==============================] - 132s 1s/step - loss: 0.4482 - accuracy: 0.3160\n",
            "Epoch 12/15\n",
            "100/100 [==============================] - 132s 1s/step - loss: 0.4481 - accuracy: 0.3160\n",
            "Epoch 13/15\n",
            "100/100 [==============================] - 132s 1s/step - loss: 0.4478 - accuracy: 0.3160\n",
            "Epoch 14/15\n",
            "100/100 [==============================] - 132s 1s/step - loss: 0.4475 - accuracy: 0.3160\n",
            "Epoch 15/15\n",
            "100/100 [==============================] - 132s 1s/step - loss: 0.4478 - accuracy: 0.3160\n"
          ]
        },
        {
          "output_type": "execute_result",
          "data": {
            "text/plain": [
              "<keras.callbacks.History at 0x7f65e0f85c90>"
            ]
          },
          "metadata": {},
          "execution_count": 15
        }
      ]
    },
    {
      "cell_type": "code",
      "metadata": {
        "colab": {
          "base_uri": "https://localhost:8080/"
        },
        "id": "NIfn_uDOAY64",
        "outputId": "27b6e5bf-7d93-40aa-87ff-7cb1eb3af45f"
      },
      "source": [
        "# Test the model \n",
        "score = model.evaluate(x_test, y_test, verbose=0)\n",
        "score"
      ],
      "id": "NIfn_uDOAY64",
      "execution_count": 16,
      "outputs": [
        {
          "output_type": "execute_result",
          "data": {
            "text/plain": [
              "[0.43971624970436096, 0.31299999356269836]"
            ]
          },
          "metadata": {},
          "execution_count": 16
        }
      ]
    },
    {
      "cell_type": "code",
      "metadata": {
        "id": "Ykto6iORGbXy",
        "colab": {
          "base_uri": "https://localhost:8080/"
        },
        "outputId": "1b77df07-ffdf-417a-cc14-95dc210404a9"
      },
      "source": [
        "loss = score[0]\n",
        "accuracy = score[1]\n",
        "print(f\"loss = {loss}, accuracy = {accuracy}\")"
      ],
      "id": "Ykto6iORGbXy",
      "execution_count": 17,
      "outputs": [
        {
          "output_type": "stream",
          "name": "stdout",
          "text": [
            "loss = 0.43971624970436096, accuracy = 0.31299999356269836\n"
          ]
        }
      ]
    },
    {
      "cell_type": "code",
      "metadata": {
        "id": "tiSwMgv7fI25"
      },
      "source": [
        ""
      ],
      "id": "tiSwMgv7fI25",
      "execution_count": null,
      "outputs": []
    }
  ]
}